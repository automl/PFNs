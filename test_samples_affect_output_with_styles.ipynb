{
 "cells": [
  {
   "cell_type": "code",
   "execution_count": 1,
   "id": "4c45e99a-564b-4328-a578-13fb1c49ef4a",
   "metadata": {},
   "outputs": [
    {
     "name": "stdout",
     "output_type": "stream",
     "text": [
      "Using linear x encoder, as no encoder was provided.\n",
      "Using linear y encoder, as no y_encoder was provided.\n"
     ]
    }
   ],
   "source": [
    "from pfns.model.transformer import TableTransformer\n",
    "\n",
    "model = TableTransformer(\n",
    "    encoder=None,\n",
    "    ninp=128,\n",
    "    nhead=4,\n",
    "    nhid=128 * 4,\n",
    "    nlayers=10,\n",
    "    y_encoder=None,\n",
    "    style_encoder=lambda x: x.repeat(1, 128),\n",
    "    y_style_encoder=lambda x: x.repeat(1, 128),\n",
    "    zero_init=False,\n",
    ")"
   ]
  },
  {
   "cell_type": "code",
   "execution_count": 2,
   "id": "3677cecc",
   "metadata": {},
   "outputs": [],
   "source": [
    "import torch\n",
    "\n",
    "# Setup a simple toy dataset with 2 datasets, 10 training examples, 1 test example and 1 feature\n",
    "\n",
    "f = 1\n",
    "\n",
    "x = torch.randn(2, 11, f)\n",
    "y = torch.randn(2, 10, f)\n",
    "x_style = torch.randn(2, f)\n",
    "y_style = torch.randn(2, 1)"
   ]
  },
  {
   "cell_type": "markdown",
   "id": "24cb8a1d",
   "metadata": {},
   "source": [
    "### No Style"
   ]
  },
  {
   "cell_type": "code",
   "execution_count": 3,
   "id": "fa3b6e1e",
   "metadata": {},
   "outputs": [
    {
     "data": {
      "text/plain": [
       "tensor([[[-0.2301]],\n",
       "\n",
       "        [[-0.0484]]], grad_fn=<ViewBackward0>)"
      ]
     },
     "execution_count": 3,
     "metadata": {},
     "output_type": "execute_result"
    }
   ],
   "source": [
    "model(x, y)\n"
   ]
  },
  {
   "cell_type": "code",
   "execution_count": 4,
   "id": "4e5a347e",
   "metadata": {},
   "outputs": [
    {
     "data": {
      "text/plain": [
       "tensor([[[-0.2449]],\n",
       "\n",
       "        [[-0.0415]]], grad_fn=<ViewBackward0>)"
      ]
     },
     "execution_count": 4,
     "metadata": {},
     "output_type": "execute_result"
    }
   ],
   "source": [
    "# test last input has effect\n",
    "\n",
    "x_copy = x.clone()\n",
    "x_copy[:, 9] = 10.\n",
    "\n",
    "model(x_copy, y)"
   ]
  },
  {
   "cell_type": "code",
   "execution_count": 5,
   "id": "5af8f761",
   "metadata": {},
   "outputs": [
    {
     "data": {
      "text/plain": [
       "tensor([[[-0.2767]],\n",
       "\n",
       "        [[-0.0634]]], grad_fn=<ViewBackward0>)"
      ]
     },
     "execution_count": 5,
     "metadata": {},
     "output_type": "execute_result"
    }
   ],
   "source": [
    "# test first input has effect\n",
    "\n",
    "x_copy = x.clone()\n",
    "x_copy[:, 0] = 10.\n",
    "\n",
    "model(x_copy, y, style=x_style)"
   ]
  },
  {
   "cell_type": "markdown",
   "id": "b3ea7244",
   "metadata": {},
   "source": [
    "### X Style"
   ]
  },
  {
   "cell_type": "code",
   "execution_count": 6,
   "id": "a3a62ee9",
   "metadata": {},
   "outputs": [
    {
     "data": {
      "text/plain": [
       "tensor([[[-0.2641]],\n",
       "\n",
       "        [[-0.0745]]], grad_fn=<ViewBackward0>)"
      ]
     },
     "execution_count": 6,
     "metadata": {},
     "output_type": "execute_result"
    }
   ],
   "source": [
    "model(x, y, style=x_style)"
   ]
  },
  {
   "cell_type": "code",
   "execution_count": 7,
   "id": "cba04186",
   "metadata": {},
   "outputs": [
    {
     "data": {
      "text/plain": [
       "tensor([[[-0.0059]],\n",
       "\n",
       "        [[ 0.0705]]], grad_fn=<ViewBackward0>)"
      ]
     },
     "execution_count": 7,
     "metadata": {},
     "output_type": "execute_result"
    }
   ],
   "source": [
    "# test last input has effect\n",
    "\n",
    "x_copy = x.clone()\n",
    "x_copy[:, 10] = 10.\n",
    "\n",
    "model(x_copy, y, style=x_style)"
   ]
  },
  {
   "cell_type": "code",
   "execution_count": 8,
   "id": "787cbac8",
   "metadata": {},
   "outputs": [
    {
     "data": {
      "text/plain": [
       "tensor([[[-0.2767]],\n",
       "\n",
       "        [[-0.0634]]], grad_fn=<ViewBackward0>)"
      ]
     },
     "execution_count": 8,
     "metadata": {},
     "output_type": "execute_result"
    }
   ],
   "source": [
    "# test first input has effect\n",
    "\n",
    "x_copy = x.clone()\n",
    "x_copy[:, 0] = 10.\n",
    "\n",
    "model(x_copy, y, style=x_style)"
   ]
  },
  {
   "cell_type": "markdown",
   "id": "8e62eef0",
   "metadata": {},
   "source": [
    "### Y Style"
   ]
  },
  {
   "cell_type": "code",
   "execution_count": 9,
   "id": "bfb2d9c3",
   "metadata": {},
   "outputs": [
    {
     "data": {
      "text/plain": [
       "tensor([[[-0.1548]],\n",
       "\n",
       "        [[-0.0722]]], grad_fn=<ViewBackward0>)"
      ]
     },
     "execution_count": 9,
     "metadata": {},
     "output_type": "execute_result"
    }
   ],
   "source": [
    "model(x, y, y_style=y_style)"
   ]
  },
  {
   "cell_type": "code",
   "execution_count": 10,
   "id": "bb96dac8",
   "metadata": {},
   "outputs": [
    {
     "data": {
      "text/plain": [
       "tensor([[[0.0463]],\n",
       "\n",
       "        [[0.0736]]], grad_fn=<ViewBackward0>)"
      ]
     },
     "execution_count": 10,
     "metadata": {},
     "output_type": "execute_result"
    }
   ],
   "source": [
    "# test last input has effect\n",
    "\n",
    "x_copy = x.clone()\n",
    "x_copy[:, 10] = 10.\n",
    "\n",
    "model(x_copy, y, y_style=y_style)"
   ]
  },
  {
   "cell_type": "code",
   "execution_count": 11,
   "id": "d8625461",
   "metadata": {},
   "outputs": [
    {
     "data": {
      "text/plain": [
       "tensor([[[-0.1707]],\n",
       "\n",
       "        [[-0.0615]]], grad_fn=<ViewBackward0>)"
      ]
     },
     "execution_count": 11,
     "metadata": {},
     "output_type": "execute_result"
    }
   ],
   "source": [
    "# test first input has effect\n",
    "\n",
    "x_copy = x.clone()\n",
    "x_copy[:, 0] = 10.\n",
    "\n",
    "model(x_copy, y, y_style=y_style)"
   ]
  },
  {
   "cell_type": "markdown",
   "id": "baa67146",
   "metadata": {},
   "source": [
    "### Both Styles"
   ]
  },
  {
   "cell_type": "code",
   "execution_count": 12,
   "id": "0a508c1d",
   "metadata": {},
   "outputs": [
    {
     "data": {
      "text/plain": [
       "tensor([[[-0.2002]],\n",
       "\n",
       "        [[-0.0743]]], grad_fn=<ViewBackward0>)"
      ]
     },
     "execution_count": 12,
     "metadata": {},
     "output_type": "execute_result"
    }
   ],
   "source": [
    "model(x, y, style=x_style, y_style=y_style)"
   ]
  },
  {
   "cell_type": "code",
   "execution_count": 13,
   "id": "3b9a28cf",
   "metadata": {},
   "outputs": [
    {
     "data": {
      "text/plain": [
       "tensor([[[0.0187]],\n",
       "\n",
       "        [[0.0713]]], grad_fn=<ViewBackward0>)"
      ]
     },
     "execution_count": 13,
     "metadata": {},
     "output_type": "execute_result"
    }
   ],
   "source": [
    "# test last input has effect\n",
    "\n",
    "x_copy = x.clone()\n",
    "x_copy[:, 10] = 10.\n",
    "\n",
    "model(x_copy, y, style=x_style, y_style=y_style)"
   ]
  },
  {
   "cell_type": "code",
   "execution_count": 14,
   "id": "5288e311",
   "metadata": {},
   "outputs": [
    {
     "data": {
      "text/plain": [
       "tensor([[[-0.2164]],\n",
       "\n",
       "        [[-0.0636]]], grad_fn=<ViewBackward0>)"
      ]
     },
     "execution_count": 14,
     "metadata": {},
     "output_type": "execute_result"
    }
   ],
   "source": [
    "# test first input has effect\n",
    "\n",
    "x_copy = x.clone()\n",
    "x_copy[:, 0] = 10.\n",
    "\n",
    "model(x_copy, y, style=x_style, y_style=y_style)"
   ]
  },
  {
   "cell_type": "code",
   "execution_count": null,
   "id": "ad97ad05",
   "metadata": {},
   "outputs": [],
   "source": []
  }
 ],
 "metadata": {
  "kernelspec": {
   "display_name": "pfns",
   "language": "python",
   "name": "python3"
  },
  "language_info": {
   "codemirror_mode": {
    "name": "ipython",
    "version": 3
   },
   "file_extension": ".py",
   "mimetype": "text/x-python",
   "name": "python",
   "nbconvert_exporter": "python",
   "pygments_lexer": "ipython3",
   "version": "3.13.2"
  }
 },
 "nbformat": 4,
 "nbformat_minor": 5
}
